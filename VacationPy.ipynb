{
 "cells": [
  {
   "cell_type": "code",
   "execution_count": 1,
   "id": "e5163ddb",
   "metadata": {
    "scrolled": true
   },
   "outputs": [
    {
     "name": "stdout",
     "output_type": "stream",
     "text": [
      "Requirement already satisfied: config in /Users/markjonse90/opt/anaconda3/lib/python3.9/site-packages (0.5.1)\n",
      "Note: you may need to restart the kernel to use updated packages.\n"
     ]
    }
   ],
   "source": [
    "pip install config"
   ]
  },
  {
   "cell_type": "code",
   "execution_count": 2,
   "id": "275d78de",
   "metadata": {
    "scrolled": true
   },
   "outputs": [],
   "source": [
    "from config import weather_api_key"
   ]
  },
  {
   "cell_type": "code",
   "execution_count": 3,
   "id": "0ecd7107",
   "metadata": {},
   "outputs": [],
   "source": [
    "# Import the dependencies.\n",
    "import pandas as pd\n",
    "import gmaps\n",
    "import requests\n",
    "\n",
    "# Import the API key.\n",
    "from config import weather_api_key"
   ]
  },
  {
   "cell_type": "code",
   "execution_count": 4,
   "id": "1c7167de",
   "metadata": {
    "scrolled": false
   },
   "outputs": [],
   "source": [
    "# Import the dependencies.\n",
    "import pandas as pd\n",
    "import gmaps\n",
    "import requests\n",
    "# Import the API key.\n",
    "from config import g_key"
   ]
  },
  {
   "cell_type": "code",
   "execution_count": 5,
   "id": "03d24fbe",
   "metadata": {
    "scrolled": true
   },
   "outputs": [
    {
     "name": "stdout",
     "output_type": "stream",
     "text": [
      "Requirement already satisfied: config in /Users/markjonse90/opt/anaconda3/lib/python3.9/site-packages (0.5.1)\r\n"
     ]
    }
   ],
   "source": [
    "!pip install config"
   ]
  },
  {
   "cell_type": "code",
   "execution_count": 6,
   "id": "928c3227",
   "metadata": {},
   "outputs": [
    {
     "data": {
      "text/html": [
       "<div>\n",
       "<style scoped>\n",
       "    .dataframe tbody tr th:only-of-type {\n",
       "        vertical-align: middle;\n",
       "    }\n",
       "\n",
       "    .dataframe tbody tr th {\n",
       "        vertical-align: top;\n",
       "    }\n",
       "\n",
       "    .dataframe thead th {\n",
       "        text-align: right;\n",
       "    }\n",
       "</style>\n",
       "<table border=\"1\" class=\"dataframe\">\n",
       "  <thead>\n",
       "    <tr style=\"text-align: right;\">\n",
       "      <th></th>\n",
       "      <th>City_ID</th>\n",
       "      <th>City</th>\n",
       "      <th>Country</th>\n",
       "      <th>Date</th>\n",
       "      <th>Lat</th>\n",
       "      <th>Lng</th>\n",
       "      <th>Max Temp</th>\n",
       "      <th>Humidity</th>\n",
       "      <th>Cloudiness</th>\n",
       "      <th>Wind Speed</th>\n",
       "    </tr>\n",
       "  </thead>\n",
       "  <tbody>\n",
       "    <tr>\n",
       "      <th>0</th>\n",
       "      <td>0</td>\n",
       "      <td>Skopelos</td>\n",
       "      <td>GR</td>\n",
       "      <td>2022-06-05 21:37:18</td>\n",
       "      <td>39.1247</td>\n",
       "      <td>23.7247</td>\n",
       "      <td>81.21</td>\n",
       "      <td>70</td>\n",
       "      <td>1</td>\n",
       "      <td>3.87</td>\n",
       "    </tr>\n",
       "    <tr>\n",
       "      <th>1</th>\n",
       "      <td>1</td>\n",
       "      <td>Port Alfred</td>\n",
       "      <td>ZA</td>\n",
       "      <td>2022-06-05 21:37:18</td>\n",
       "      <td>-33.5906</td>\n",
       "      <td>26.8910</td>\n",
       "      <td>57.18</td>\n",
       "      <td>89</td>\n",
       "      <td>10</td>\n",
       "      <td>15.82</td>\n",
       "    </tr>\n",
       "    <tr>\n",
       "      <th>2</th>\n",
       "      <td>2</td>\n",
       "      <td>Mataura</td>\n",
       "      <td>NZ</td>\n",
       "      <td>2022-06-05 21:37:18</td>\n",
       "      <td>-46.1927</td>\n",
       "      <td>168.8643</td>\n",
       "      <td>45.03</td>\n",
       "      <td>83</td>\n",
       "      <td>0</td>\n",
       "      <td>3.20</td>\n",
       "    </tr>\n",
       "    <tr>\n",
       "      <th>3</th>\n",
       "      <td>3</td>\n",
       "      <td>Rikitea</td>\n",
       "      <td>PF</td>\n",
       "      <td>2022-06-05 21:37:19</td>\n",
       "      <td>-23.1203</td>\n",
       "      <td>-134.9692</td>\n",
       "      <td>73.69</td>\n",
       "      <td>78</td>\n",
       "      <td>16</td>\n",
       "      <td>17.56</td>\n",
       "    </tr>\n",
       "    <tr>\n",
       "      <th>4</th>\n",
       "      <td>4</td>\n",
       "      <td>Caravelas</td>\n",
       "      <td>BR</td>\n",
       "      <td>2022-06-05 21:37:19</td>\n",
       "      <td>-17.7125</td>\n",
       "      <td>-39.2481</td>\n",
       "      <td>69.31</td>\n",
       "      <td>72</td>\n",
       "      <td>68</td>\n",
       "      <td>9.06</td>\n",
       "    </tr>\n",
       "  </tbody>\n",
       "</table>\n",
       "</div>"
      ],
      "text/plain": [
       "   City_ID         City Country                 Date      Lat       Lng  \\\n",
       "0        0     Skopelos      GR  2022-06-05 21:37:18  39.1247   23.7247   \n",
       "1        1  Port Alfred      ZA  2022-06-05 21:37:18 -33.5906   26.8910   \n",
       "2        2      Mataura      NZ  2022-06-05 21:37:18 -46.1927  168.8643   \n",
       "3        3      Rikitea      PF  2022-06-05 21:37:19 -23.1203 -134.9692   \n",
       "4        4    Caravelas      BR  2022-06-05 21:37:19 -17.7125  -39.2481   \n",
       "\n",
       "   Max Temp  Humidity  Cloudiness  Wind Speed  \n",
       "0     81.21        70           1        3.87  \n",
       "1     57.18        89          10       15.82  \n",
       "2     45.03        83           0        3.20  \n",
       "3     73.69        78          16       17.56  \n",
       "4     69.31        72          68        9.06  "
      ]
     },
     "execution_count": 6,
     "metadata": {},
     "output_type": "execute_result"
    }
   ],
   "source": [
    "# Store the CSV you saved created in part one into a DataFrame.\n",
    "city_data_df = pd.read_csv(\"weather_data/cities.csv\")\n",
    "city_data_df.head()"
   ]
  },
  {
   "cell_type": "code",
   "execution_count": 7,
   "id": "50f27d47",
   "metadata": {},
   "outputs": [
    {
     "data": {
      "text/plain": [
       "City_ID         int64\n",
       "City           object\n",
       "Country        object\n",
       "Date           object\n",
       "Lat           float64\n",
       "Lng           float64\n",
       "Max Temp      float64\n",
       "Humidity        int64\n",
       "Cloudiness      int64\n",
       "Wind Speed    float64\n",
       "dtype: object"
      ]
     },
     "execution_count": 7,
     "metadata": {},
     "output_type": "execute_result"
    }
   ],
   "source": [
    "#Get the data types\n",
    "city_data_df.dtypes"
   ]
  },
  {
   "cell_type": "code",
   "execution_count": 8,
   "id": "16f78155",
   "metadata": {},
   "outputs": [],
   "source": [
    "# Configure gmaps to use your Google API key.\n",
    "gmaps.configure(api_key=g_key)"
   ]
  },
  {
   "cell_type": "code",
   "execution_count": 9,
   "id": "7cc9f80a",
   "metadata": {},
   "outputs": [],
   "source": [
    "# # 1. Assign the locations to an array of latitude and longitude pairs.\n",
    "# locations = [latitude, longitude]\n",
    "# # 2. Assign the weights variable to some values.\n",
    "# temperatures = # an array of length equal to the locations array length\n",
    "# # 3. Assign the figure variable to the gmaps.figure() attribute.\n",
    "# fig = gmaps.figure()\n",
    "# # 4. Assign the heatmap_layer variable to the heatmap_layer attribute and add in the locations.\n",
    "# heatmap_layer = gmaps.heatmap_layer(locations, weights=temperatures)\n",
    "\n",
    "# # 5. Add the heatmap layer.\n",
    "# fig.add_layer(heatmap_layer)\n",
    "# # 6. Call the figure to plot the data.\n",
    "# fig"
   ]
  },
  {
   "cell_type": "code",
   "execution_count": 10,
   "id": "4d81c4f0",
   "metadata": {},
   "outputs": [
    {
     "data": {
      "application/vnd.jupyter.widget-view+json": {
       "model_id": "a522ee14eff04bc49882bad4880d363e",
       "version_major": 2,
       "version_minor": 0
      },
      "text/plain": [
       "Figure(layout=FigureLayout(height='420px'))"
      ]
     },
     "metadata": {},
     "output_type": "display_data"
    }
   ],
   "source": [
    "# Heatmap of temperature\n",
    "# Get the latitude and longitude.\n",
    "locations = city_data_df[[\"Lat\", \"Lng\"]]\n",
    "# Get the maximum temperature.\n",
    "max_temp = city_data_df[\"Max Temp\"]\n",
    "# Assign the figure variable.\n",
    "fig = gmaps.figure()\n",
    "# Assign the heatmap variable.\n",
    "heat_layer = gmaps.heatmap_layer(locations, weights=max_temp)\n",
    "# Add the heatmap layer.\n",
    "fig.add_layer(heat_layer)\n",
    "# Call the figure to plot the data.\n",
    "fig"
   ]
  },
  {
   "cell_type": "code",
   "execution_count": 11,
   "id": "86340764",
   "metadata": {},
   "outputs": [],
   "source": [
    "# Get the maximum temperature.\n",
    "max_temp = city_data_df[\"Max Temp\"]\n",
    "temps = []\n",
    "for temp in max_temp:\n",
    "    temps.append(max(temp, 0))"
   ]
  },
  {
   "cell_type": "code",
   "execution_count": 12,
   "id": "138cb205",
   "metadata": {},
   "outputs": [
    {
     "data": {
      "application/vnd.jupyter.widget-view+json": {
       "model_id": "a23660f0eb764f3eac32a1aa91784141",
       "version_major": 2,
       "version_minor": 0
      },
      "text/plain": [
       "Figure(layout=FigureLayout(height='420px'))"
      ]
     },
     "metadata": {},
     "output_type": "display_data"
    }
   ],
   "source": [
    "# Heatmap of temperature\n",
    "# Get the latitude and longitude.\n",
    "\n",
    "locations = city_data_df[[\"Lat\", \"Lng\"]]\n",
    "\n",
    "# Get the maximum temperature.\n",
    "max_temp = city_data_df[\"Max Temp\"]\n",
    "\n",
    "# Assign the figure variable.\n",
    "fig = gmaps.figure(center=(30.0, 31.0), zoom_level=1.5)\n",
    "\n",
    "# Assign the heatmap variable.\n",
    "heat_layer = gmaps.heatmap_layer(locations, weights=max_temp, dissipating=False, max_intensity=300, point_radius=4)\n",
    "\n",
    "# Add the heatmap layer.\n",
    "fig.add_layer(heat_layer)\n",
    "\n",
    "# Call the figure to plot the data.\n",
    "fig"
   ]
  },
  {
   "cell_type": "code",
   "execution_count": 13,
   "id": "a638a3df",
   "metadata": {},
   "outputs": [
    {
     "data": {
      "application/vnd.jupyter.widget-view+json": {
       "model_id": "7ae1ddf3fc1b419ab0ef07a38ade89a2",
       "version_major": 2,
       "version_minor": 0
      },
      "text/plain": [
       "Figure(layout=FigureLayout(height='420px'))"
      ]
     },
     "metadata": {},
     "output_type": "display_data"
    }
   ],
   "source": [
    "# Heatmap of percent humidity\n",
    "locations = city_data_df[[\"Lat\", \"Lng\"]]\n",
    "humidity = city_data_df[\"Humidity\"]\n",
    "fig = gmaps.figure(center=(30.0, 31.0), zoom_level=1.5)\n",
    "heat_layer = gmaps.heatmap_layer(locations, weights=humidity, dissipating=False, max_intensity=300, point_radius=4)\n",
    "\n",
    "fig.add_layer(heat_layer)\n",
    "# Call the figure to plot the data.\n",
    "fig"
   ]
  },
  {
   "cell_type": "code",
   "execution_count": 14,
   "id": "bf56bff6",
   "metadata": {},
   "outputs": [
    {
     "data": {
      "application/vnd.jupyter.widget-view+json": {
       "model_id": "2ae96196f6b4476ab04a5cd0d5aa7e13",
       "version_major": 2,
       "version_minor": 0
      },
      "text/plain": [
       "Figure(layout=FigureLayout(height='420px'))"
      ]
     },
     "metadata": {},
     "output_type": "display_data"
    }
   ],
   "source": [
    "# Heatmap of percent cloudiness\n",
    "locations = city_data_df[[\"Lat\", \"Lng\"]]\n",
    "clouds = city_data_df[\"Cloudiness\"]\n",
    "fig = gmaps.figure(center=(30.0, 31.0), zoom_level=1.5)\n",
    "heat_layer = gmaps.heatmap_layer(locations, weights=clouds, dissipating=False, max_intensity=300, point_radius=4)\n",
    "\n",
    "fig.add_layer(heat_layer)\n",
    "# Call the figure to plot the data.\n",
    "fig"
   ]
  },
  {
   "cell_type": "code",
   "execution_count": 15,
   "id": "a4f9830d",
   "metadata": {},
   "outputs": [
    {
     "data": {
      "application/vnd.jupyter.widget-view+json": {
       "model_id": "3327eb9c8bcb47348f9533c3e2ed3155",
       "version_major": 2,
       "version_minor": 0
      },
      "text/plain": [
       "Figure(layout=FigureLayout(height='420px'))"
      ]
     },
     "metadata": {},
     "output_type": "display_data"
    }
   ],
   "source": [
    "# Heatmap of percent Wind Speed\n",
    "locations = city_data_df[[\"Lat\", \"Lng\"]]\n",
    "wind = city_data_df[\"Wind Speed\"]\n",
    "fig = gmaps.figure(center=(30.0, 31.0), zoom_level=1.5)\n",
    "heat_layer = gmaps.heatmap_layer(locations, weights=wind, dissipating=False, max_intensity=300, point_radius=4)\n",
    "\n",
    "fig.add_layer(heat_layer)\n",
    "# Call the figure to plot the data.\n",
    "fig"
   ]
  },
  {
   "cell_type": "code",
   "execution_count": 16,
   "id": "30178cd6",
   "metadata": {},
   "outputs": [
    {
     "name": "stdout",
     "output_type": "stream",
     "text": [
      "What is the minimum temperature you would like for your trip? 75\n",
      "What is the maximum temperature you would like for your trip? 90\n"
     ]
    }
   ],
   "source": [
    "# Ask the customer to add a minimum and maximum temperature value.\n",
    "min_temp = float(input(\"What is the minimum temperature you would like for your trip? \"))\n",
    "max_temp = float(input(\"What is the maximum temperature you would like for your trip? \"))"
   ]
  },
  {
   "cell_type": "code",
   "execution_count": 17,
   "id": "da239d31",
   "metadata": {},
   "outputs": [
    {
     "data": {
      "text/html": [
       "<div>\n",
       "<style scoped>\n",
       "    .dataframe tbody tr th:only-of-type {\n",
       "        vertical-align: middle;\n",
       "    }\n",
       "\n",
       "    .dataframe tbody tr th {\n",
       "        vertical-align: top;\n",
       "    }\n",
       "\n",
       "    .dataframe thead th {\n",
       "        text-align: right;\n",
       "    }\n",
       "</style>\n",
       "<table border=\"1\" class=\"dataframe\">\n",
       "  <thead>\n",
       "    <tr style=\"text-align: right;\">\n",
       "      <th></th>\n",
       "      <th>City_ID</th>\n",
       "      <th>City</th>\n",
       "      <th>Country</th>\n",
       "      <th>Date</th>\n",
       "      <th>Lat</th>\n",
       "      <th>Lng</th>\n",
       "      <th>Max Temp</th>\n",
       "      <th>Humidity</th>\n",
       "      <th>Cloudiness</th>\n",
       "      <th>Wind Speed</th>\n",
       "    </tr>\n",
       "  </thead>\n",
       "  <tbody>\n",
       "    <tr>\n",
       "      <th>0</th>\n",
       "      <td>0</td>\n",
       "      <td>Skopelos</td>\n",
       "      <td>GR</td>\n",
       "      <td>2022-06-05 21:37:18</td>\n",
       "      <td>39.1247</td>\n",
       "      <td>23.7247</td>\n",
       "      <td>81.21</td>\n",
       "      <td>70</td>\n",
       "      <td>1</td>\n",
       "      <td>3.87</td>\n",
       "    </tr>\n",
       "    <tr>\n",
       "      <th>5</th>\n",
       "      <td>5</td>\n",
       "      <td>Kapaa</td>\n",
       "      <td>US</td>\n",
       "      <td>2022-06-05 21:37:20</td>\n",
       "      <td>22.0752</td>\n",
       "      <td>-159.3190</td>\n",
       "      <td>79.48</td>\n",
       "      <td>74</td>\n",
       "      <td>100</td>\n",
       "      <td>10.36</td>\n",
       "    </tr>\n",
       "    <tr>\n",
       "      <th>6</th>\n",
       "      <td>6</td>\n",
       "      <td>Itarema</td>\n",
       "      <td>BR</td>\n",
       "      <td>2022-06-05 21:37:20</td>\n",
       "      <td>-2.9248</td>\n",
       "      <td>-39.9167</td>\n",
       "      <td>77.16</td>\n",
       "      <td>85</td>\n",
       "      <td>29</td>\n",
       "      <td>11.01</td>\n",
       "    </tr>\n",
       "    <tr>\n",
       "      <th>10</th>\n",
       "      <td>10</td>\n",
       "      <td>Lompoc</td>\n",
       "      <td>US</td>\n",
       "      <td>2022-06-05 21:33:03</td>\n",
       "      <td>34.6391</td>\n",
       "      <td>-120.4579</td>\n",
       "      <td>88.57</td>\n",
       "      <td>71</td>\n",
       "      <td>0</td>\n",
       "      <td>24.00</td>\n",
       "    </tr>\n",
       "    <tr>\n",
       "      <th>11</th>\n",
       "      <td>11</td>\n",
       "      <td>Bethel</td>\n",
       "      <td>US</td>\n",
       "      <td>2022-06-05 21:36:55</td>\n",
       "      <td>41.3712</td>\n",
       "      <td>-73.4140</td>\n",
       "      <td>77.18</td>\n",
       "      <td>38</td>\n",
       "      <td>0</td>\n",
       "      <td>5.75</td>\n",
       "    </tr>\n",
       "    <tr>\n",
       "      <th>12</th>\n",
       "      <td>12</td>\n",
       "      <td>Butaritari</td>\n",
       "      <td>KI</td>\n",
       "      <td>2022-06-05 21:37:22</td>\n",
       "      <td>3.0707</td>\n",
       "      <td>172.7902</td>\n",
       "      <td>81.68</td>\n",
       "      <td>71</td>\n",
       "      <td>70</td>\n",
       "      <td>11.74</td>\n",
       "    </tr>\n",
       "    <tr>\n",
       "      <th>15</th>\n",
       "      <td>15</td>\n",
       "      <td>Kunya</td>\n",
       "      <td>NG</td>\n",
       "      <td>2022-06-05 21:37:23</td>\n",
       "      <td>12.2233</td>\n",
       "      <td>8.5325</td>\n",
       "      <td>78.96</td>\n",
       "      <td>61</td>\n",
       "      <td>20</td>\n",
       "      <td>3.44</td>\n",
       "    </tr>\n",
       "    <tr>\n",
       "      <th>16</th>\n",
       "      <td>16</td>\n",
       "      <td>Seabrook</td>\n",
       "      <td>US</td>\n",
       "      <td>2022-06-05 21:37:24</td>\n",
       "      <td>38.9679</td>\n",
       "      <td>-76.8450</td>\n",
       "      <td>81.05</td>\n",
       "      <td>42</td>\n",
       "      <td>0</td>\n",
       "      <td>6.91</td>\n",
       "    </tr>\n",
       "    <tr>\n",
       "      <th>18</th>\n",
       "      <td>18</td>\n",
       "      <td>Mubi</td>\n",
       "      <td>NG</td>\n",
       "      <td>2022-06-05 21:37:24</td>\n",
       "      <td>10.2676</td>\n",
       "      <td>13.2644</td>\n",
       "      <td>77.68</td>\n",
       "      <td>62</td>\n",
       "      <td>79</td>\n",
       "      <td>2.15</td>\n",
       "    </tr>\n",
       "    <tr>\n",
       "      <th>21</th>\n",
       "      <td>21</td>\n",
       "      <td>Vaini</td>\n",
       "      <td>TO</td>\n",
       "      <td>2022-06-05 21:37:26</td>\n",
       "      <td>-21.2000</td>\n",
       "      <td>-175.2000</td>\n",
       "      <td>78.96</td>\n",
       "      <td>73</td>\n",
       "      <td>40</td>\n",
       "      <td>5.75</td>\n",
       "    </tr>\n",
       "  </tbody>\n",
       "</table>\n",
       "</div>"
      ],
      "text/plain": [
       "    City_ID        City Country                 Date      Lat       Lng  \\\n",
       "0         0    Skopelos      GR  2022-06-05 21:37:18  39.1247   23.7247   \n",
       "5         5       Kapaa      US  2022-06-05 21:37:20  22.0752 -159.3190   \n",
       "6         6     Itarema      BR  2022-06-05 21:37:20  -2.9248  -39.9167   \n",
       "10       10      Lompoc      US  2022-06-05 21:33:03  34.6391 -120.4579   \n",
       "11       11      Bethel      US  2022-06-05 21:36:55  41.3712  -73.4140   \n",
       "12       12  Butaritari      KI  2022-06-05 21:37:22   3.0707  172.7902   \n",
       "15       15       Kunya      NG  2022-06-05 21:37:23  12.2233    8.5325   \n",
       "16       16    Seabrook      US  2022-06-05 21:37:24  38.9679  -76.8450   \n",
       "18       18        Mubi      NG  2022-06-05 21:37:24  10.2676   13.2644   \n",
       "21       21       Vaini      TO  2022-06-05 21:37:26 -21.2000 -175.2000   \n",
       "\n",
       "    Max Temp  Humidity  Cloudiness  Wind Speed  \n",
       "0      81.21        70           1        3.87  \n",
       "5      79.48        74         100       10.36  \n",
       "6      77.16        85          29       11.01  \n",
       "10     88.57        71           0       24.00  \n",
       "11     77.18        38           0        5.75  \n",
       "12     81.68        71          70       11.74  \n",
       "15     78.96        61          20        3.44  \n",
       "16     81.05        42           0        6.91  \n",
       "18     77.68        62          79        2.15  \n",
       "21     78.96        73          40        5.75  "
      ]
     },
     "execution_count": 17,
     "metadata": {},
     "output_type": "execute_result"
    }
   ],
   "source": [
    "# Filter the dataset to find the cities that fit the criteria.\n",
    "preferred_cities_df = city_data_df.loc[(city_data_df[\"Max Temp\"] <= max_temp) & \\\n",
    "                                       (city_data_df[\"Max Temp\"] >= min_temp)]\n",
    "preferred_cities_df.head(10)"
   ]
  },
  {
   "cell_type": "code",
   "execution_count": 18,
   "id": "0c5be14d",
   "metadata": {},
   "outputs": [
    {
     "data": {
      "text/plain": [
       "City_ID       176\n",
       "City          176\n",
       "Country       176\n",
       "Date          176\n",
       "Lat           176\n",
       "Lng           176\n",
       "Max Temp      176\n",
       "Humidity      176\n",
       "Cloudiness    176\n",
       "Wind Speed    176\n",
       "dtype: int64"
      ]
     },
     "execution_count": 18,
     "metadata": {},
     "output_type": "execute_result"
    }
   ],
   "source": [
    "preferred_cities_df.count()"
   ]
  },
  {
   "cell_type": "code",
   "execution_count": 19,
   "id": "a892bdfd",
   "metadata": {},
   "outputs": [
    {
     "data": {
      "text/html": [
       "<div>\n",
       "<style scoped>\n",
       "    .dataframe tbody tr th:only-of-type {\n",
       "        vertical-align: middle;\n",
       "    }\n",
       "\n",
       "    .dataframe tbody tr th {\n",
       "        vertical-align: top;\n",
       "    }\n",
       "\n",
       "    .dataframe thead th {\n",
       "        text-align: right;\n",
       "    }\n",
       "</style>\n",
       "<table border=\"1\" class=\"dataframe\">\n",
       "  <thead>\n",
       "    <tr style=\"text-align: right;\">\n",
       "      <th></th>\n",
       "      <th>City</th>\n",
       "      <th>Country</th>\n",
       "      <th>Max Temp</th>\n",
       "      <th>Lat</th>\n",
       "      <th>Lng</th>\n",
       "      <th>Hotel Name</th>\n",
       "    </tr>\n",
       "  </thead>\n",
       "  <tbody>\n",
       "    <tr>\n",
       "      <th>0</th>\n",
       "      <td>Skopelos</td>\n",
       "      <td>GR</td>\n",
       "      <td>81.21</td>\n",
       "      <td>39.1247</td>\n",
       "      <td>23.7247</td>\n",
       "      <td></td>\n",
       "    </tr>\n",
       "    <tr>\n",
       "      <th>5</th>\n",
       "      <td>Kapaa</td>\n",
       "      <td>US</td>\n",
       "      <td>79.48</td>\n",
       "      <td>22.0752</td>\n",
       "      <td>-159.3190</td>\n",
       "      <td></td>\n",
       "    </tr>\n",
       "    <tr>\n",
       "      <th>6</th>\n",
       "      <td>Itarema</td>\n",
       "      <td>BR</td>\n",
       "      <td>77.16</td>\n",
       "      <td>-2.9248</td>\n",
       "      <td>-39.9167</td>\n",
       "      <td></td>\n",
       "    </tr>\n",
       "    <tr>\n",
       "      <th>10</th>\n",
       "      <td>Lompoc</td>\n",
       "      <td>US</td>\n",
       "      <td>88.57</td>\n",
       "      <td>34.6391</td>\n",
       "      <td>-120.4579</td>\n",
       "      <td></td>\n",
       "    </tr>\n",
       "    <tr>\n",
       "      <th>11</th>\n",
       "      <td>Bethel</td>\n",
       "      <td>US</td>\n",
       "      <td>77.18</td>\n",
       "      <td>41.3712</td>\n",
       "      <td>-73.4140</td>\n",
       "      <td></td>\n",
       "    </tr>\n",
       "    <tr>\n",
       "      <th>12</th>\n",
       "      <td>Butaritari</td>\n",
       "      <td>KI</td>\n",
       "      <td>81.68</td>\n",
       "      <td>3.0707</td>\n",
       "      <td>172.7902</td>\n",
       "      <td></td>\n",
       "    </tr>\n",
       "    <tr>\n",
       "      <th>15</th>\n",
       "      <td>Kunya</td>\n",
       "      <td>NG</td>\n",
       "      <td>78.96</td>\n",
       "      <td>12.2233</td>\n",
       "      <td>8.5325</td>\n",
       "      <td></td>\n",
       "    </tr>\n",
       "    <tr>\n",
       "      <th>16</th>\n",
       "      <td>Seabrook</td>\n",
       "      <td>US</td>\n",
       "      <td>81.05</td>\n",
       "      <td>38.9679</td>\n",
       "      <td>-76.8450</td>\n",
       "      <td></td>\n",
       "    </tr>\n",
       "    <tr>\n",
       "      <th>18</th>\n",
       "      <td>Mubi</td>\n",
       "      <td>NG</td>\n",
       "      <td>77.68</td>\n",
       "      <td>10.2676</td>\n",
       "      <td>13.2644</td>\n",
       "      <td></td>\n",
       "    </tr>\n",
       "    <tr>\n",
       "      <th>21</th>\n",
       "      <td>Vaini</td>\n",
       "      <td>TO</td>\n",
       "      <td>78.96</td>\n",
       "      <td>-21.2000</td>\n",
       "      <td>-175.2000</td>\n",
       "      <td></td>\n",
       "    </tr>\n",
       "  </tbody>\n",
       "</table>\n",
       "</div>"
      ],
      "text/plain": [
       "          City Country  Max Temp      Lat       Lng Hotel Name\n",
       "0     Skopelos      GR     81.21  39.1247   23.7247           \n",
       "5        Kapaa      US     79.48  22.0752 -159.3190           \n",
       "6      Itarema      BR     77.16  -2.9248  -39.9167           \n",
       "10      Lompoc      US     88.57  34.6391 -120.4579           \n",
       "11      Bethel      US     77.18  41.3712  -73.4140           \n",
       "12  Butaritari      KI     81.68   3.0707  172.7902           \n",
       "15       Kunya      NG     78.96  12.2233    8.5325           \n",
       "16    Seabrook      US     81.05  38.9679  -76.8450           \n",
       "18        Mubi      NG     77.68  10.2676   13.2644           \n",
       "21       Vaini      TO     78.96 -21.2000 -175.2000           "
      ]
     },
     "execution_count": 19,
     "metadata": {},
     "output_type": "execute_result"
    }
   ],
   "source": [
    "# Create DataFrame called hotel_df to store hotel names along with city, country, max temp, and coordinates.\n",
    "hotel_df = preferred_cities_df[[\"City\", \"Country\", \"Max Temp\", \"Lat\", \"Lng\"]].copy()\n",
    "hotel_df[\"Hotel Name\"] = \"\"\n",
    "hotel_df.head(10)"
   ]
  },
  {
   "cell_type": "code",
   "execution_count": 20,
   "id": "e461e3ec",
   "metadata": {},
   "outputs": [],
   "source": [
    "# Set parameters to search for a hotel.\n",
    "params = {\n",
    "    \"radius\": 5000,\n",
    "    \"type\": \"lodging\",\n",
    "    \"key\": g_key\n",
    "}"
   ]
  },
  {
   "cell_type": "code",
   "execution_count": 37,
   "id": "fc5c62e7",
   "metadata": {},
   "outputs": [
    {
     "name": "stdout",
     "output_type": "stream",
     "text": [
      "Hotel added to DF\n",
      "Hotel added to DF\n",
      "Hotel added to DF\n",
      "Hotel added to DF\n",
      "Hotel added to DF\n",
      "Hotel added to DF\n",
      "Hotel not found... skipping.\n",
      "Hotel added to DF\n",
      "Hotel added to DF\n",
      "Hotel added to DF\n",
      "Hotel added to DF\n",
      "Hotel added to DF\n",
      "Hotel added to DF\n",
      "Hotel added to DF\n",
      "Hotel added to DF\n",
      "Hotel added to DF\n",
      "Hotel added to DF\n",
      "Hotel not found... skipping.\n",
      "Hotel added to DF\n",
      "Hotel added to DF\n",
      "Hotel added to DF\n",
      "Hotel added to DF\n",
      "Hotel added to DF\n",
      "Hotel added to DF\n",
      "Hotel not found... skipping.\n",
      "Hotel added to DF\n",
      "Hotel added to DF\n",
      "Hotel added to DF\n",
      "Hotel added to DF\n",
      "Hotel added to DF\n",
      "Hotel added to DF\n",
      "Hotel added to DF\n",
      "Hotel added to DF\n",
      "Hotel added to DF\n",
      "Hotel added to DF\n",
      "Hotel added to DF\n",
      "Hotel added to DF\n",
      "Hotel added to DF\n",
      "Hotel added to DF\n",
      "Hotel added to DF\n",
      "Hotel added to DF\n",
      "Hotel added to DF\n",
      "Hotel added to DF\n",
      "Hotel added to DF\n",
      "Hotel added to DF\n",
      "Hotel added to DF\n",
      "Hotel added to DF\n",
      "Hotel added to DF\n",
      "Hotel added to DF\n",
      "Hotel added to DF\n",
      "Hotel added to DF\n",
      "Hotel added to DF\n",
      "Hotel added to DF\n",
      "Hotel added to DF\n",
      "Hotel added to DF\n",
      "Hotel not found... skipping.\n",
      "Hotel added to DF\n",
      "Hotel added to DF\n",
      "Hotel added to DF\n",
      "Hotel not found... skipping.\n",
      "Hotel added to DF\n",
      "Hotel added to DF\n",
      "Hotel added to DF\n",
      "Hotel added to DF\n",
      "Hotel added to DF\n",
      "Hotel added to DF\n",
      "Hotel added to DF\n",
      "Hotel not found... skipping.\n",
      "Hotel added to DF\n",
      "Hotel added to DF\n",
      "Hotel added to DF\n",
      "Hotel added to DF\n",
      "Hotel added to DF\n",
      "Hotel added to DF\n",
      "Hotel not found... skipping.\n",
      "Hotel added to DF\n",
      "Hotel added to DF\n",
      "Hotel added to DF\n",
      "Hotel added to DF\n",
      "Hotel added to DF\n",
      "Hotel added to DF\n",
      "Hotel added to DF\n",
      "Hotel not found... skipping.\n",
      "Hotel added to DF\n",
      "Hotel added to DF\n",
      "Hotel added to DF\n",
      "Hotel added to DF\n",
      "Hotel added to DF\n",
      "Hotel added to DF\n",
      "Hotel added to DF\n",
      "Hotel added to DF\n",
      "Hotel added to DF\n",
      "Hotel added to DF\n",
      "Hotel added to DF\n",
      "Hotel added to DF\n",
      "Hotel added to DF\n",
      "Hotel added to DF\n",
      "Hotel added to DF\n",
      "Hotel added to DF\n",
      "Hotel added to DF\n",
      "Hotel added to DF\n",
      "Hotel added to DF\n",
      "Hotel added to DF\n",
      "Hotel added to DF\n",
      "Hotel not found... skipping.\n",
      "Hotel added to DF\n",
      "Hotel added to DF\n",
      "Hotel not found... skipping.\n",
      "Hotel not found... skipping.\n",
      "Hotel added to DF\n",
      "Hotel added to DF\n",
      "Hotel added to DF\n",
      "Hotel added to DF\n",
      "Hotel added to DF\n",
      "Hotel added to DF\n",
      "Hotel added to DF\n",
      "Hotel added to DF\n",
      "Hotel added to DF\n",
      "Hotel added to DF\n",
      "Hotel added to DF\n",
      "Hotel added to DF\n",
      "Hotel added to DF\n",
      "Hotel added to DF\n",
      "Hotel added to DF\n",
      "Hotel added to DF\n",
      "Hotel added to DF\n",
      "Hotel added to DF\n",
      "Hotel added to DF\n",
      "Hotel not found... skipping.\n",
      "Hotel added to DF\n",
      "Hotel added to DF\n",
      "Hotel added to DF\n",
      "Hotel added to DF\n",
      "Hotel added to DF\n",
      "Hotel added to DF\n",
      "Hotel added to DF\n",
      "Hotel added to DF\n",
      "Hotel added to DF\n",
      "Hotel added to DF\n",
      "Hotel not found... skipping.\n",
      "Hotel added to DF\n",
      "Hotel added to DF\n",
      "Hotel added to DF\n",
      "Hotel added to DF\n",
      "Hotel added to DF\n",
      "Hotel added to DF\n",
      "Hotel added to DF\n",
      "Hotel added to DF\n",
      "Hotel added to DF\n",
      "Hotel added to DF\n",
      "Hotel not found... skipping.\n",
      "Hotel added to DF\n",
      "Hotel added to DF\n",
      "Hotel added to DF\n",
      "Hotel added to DF\n",
      "Hotel added to DF\n",
      "Hotel added to DF\n",
      "Hotel added to DF\n",
      "Hotel added to DF\n",
      "Hotel added to DF\n",
      "Hotel added to DF\n",
      "Hotel added to DF\n",
      "Hotel added to DF\n",
      "Hotel added to DF\n",
      "Hotel added to DF\n",
      "Hotel added to DF\n",
      "Hotel added to DF\n",
      "Hotel added to DF\n",
      "Hotel added to DF\n",
      "Hotel added to DF\n",
      "Hotel added to DF\n",
      "Hotel added to DF\n",
      "Hotel added to DF\n",
      "Hotel added to DF\n",
      "Hotel added to DF\n",
      "Hotel added to DF\n"
     ]
    }
   ],
   "source": [
    "# Iterate through the DataFrame.\n",
    "for index, row in hotel_df.iterrows():\n",
    "    # Get the latitude and longitude.\n",
    "    lat = row[\"Lat\"]\n",
    "    lng = row[\"Lng\"]\n",
    "\n",
    "    # Add the latitude and longitude to location key for the params dictionary.\n",
    "    params[\"location\"] = f\"{lat},{lng}\"\n",
    "\n",
    "    # Use the search term: \"lodging\" and our latitude and longitude.\n",
    "    base_url = \"https://maps.googleapis.com/maps/api/place/nearbysearch/json\"\n",
    "    # Make request and get the JSON data from the search.\n",
    "    hotels = requests.get(base_url, params=params).json()\n",
    "# Grab the first hotel from the results and store the name.\n",
    "    try:\n",
    "        hotel_df.loc[index, \"Hotel Name\"] = hotels[\"results\"][0][\"name\"]\n",
    "        print(\"Hotel added to DF\")\n",
    "    except (IndexError):\n",
    "        print(\"Hotel not found... skipping.\")"
   ]
  },
  {
   "cell_type": "code",
   "execution_count": 21,
   "id": "942d325f",
   "metadata": {
    "scrolled": true
   },
   "outputs": [
    {
     "data": {
      "text/html": [
       "<div>\n",
       "<style scoped>\n",
       "    .dataframe tbody tr th:only-of-type {\n",
       "        vertical-align: middle;\n",
       "    }\n",
       "\n",
       "    .dataframe tbody tr th {\n",
       "        vertical-align: top;\n",
       "    }\n",
       "\n",
       "    .dataframe thead th {\n",
       "        text-align: right;\n",
       "    }\n",
       "</style>\n",
       "<table border=\"1\" class=\"dataframe\">\n",
       "  <thead>\n",
       "    <tr style=\"text-align: right;\">\n",
       "      <th></th>\n",
       "      <th>City</th>\n",
       "      <th>Country</th>\n",
       "      <th>Max Temp</th>\n",
       "      <th>Lat</th>\n",
       "      <th>Lng</th>\n",
       "      <th>Hotel Name</th>\n",
       "    </tr>\n",
       "  </thead>\n",
       "  <tbody>\n",
       "    <tr>\n",
       "      <th>0</th>\n",
       "      <td>Skopelos</td>\n",
       "      <td>GR</td>\n",
       "      <td>81.21</td>\n",
       "      <td>39.1247</td>\n",
       "      <td>23.7247</td>\n",
       "      <td></td>\n",
       "    </tr>\n",
       "    <tr>\n",
       "      <th>5</th>\n",
       "      <td>Kapaa</td>\n",
       "      <td>US</td>\n",
       "      <td>79.48</td>\n",
       "      <td>22.0752</td>\n",
       "      <td>-159.3190</td>\n",
       "      <td></td>\n",
       "    </tr>\n",
       "    <tr>\n",
       "      <th>6</th>\n",
       "      <td>Itarema</td>\n",
       "      <td>BR</td>\n",
       "      <td>77.16</td>\n",
       "      <td>-2.9248</td>\n",
       "      <td>-39.9167</td>\n",
       "      <td></td>\n",
       "    </tr>\n",
       "    <tr>\n",
       "      <th>10</th>\n",
       "      <td>Lompoc</td>\n",
       "      <td>US</td>\n",
       "      <td>88.57</td>\n",
       "      <td>34.6391</td>\n",
       "      <td>-120.4579</td>\n",
       "      <td></td>\n",
       "    </tr>\n",
       "    <tr>\n",
       "      <th>11</th>\n",
       "      <td>Bethel</td>\n",
       "      <td>US</td>\n",
       "      <td>77.18</td>\n",
       "      <td>41.3712</td>\n",
       "      <td>-73.4140</td>\n",
       "      <td></td>\n",
       "    </tr>\n",
       "    <tr>\n",
       "      <th>12</th>\n",
       "      <td>Butaritari</td>\n",
       "      <td>KI</td>\n",
       "      <td>81.68</td>\n",
       "      <td>3.0707</td>\n",
       "      <td>172.7902</td>\n",
       "      <td></td>\n",
       "    </tr>\n",
       "    <tr>\n",
       "      <th>15</th>\n",
       "      <td>Kunya</td>\n",
       "      <td>NG</td>\n",
       "      <td>78.96</td>\n",
       "      <td>12.2233</td>\n",
       "      <td>8.5325</td>\n",
       "      <td></td>\n",
       "    </tr>\n",
       "    <tr>\n",
       "      <th>16</th>\n",
       "      <td>Seabrook</td>\n",
       "      <td>US</td>\n",
       "      <td>81.05</td>\n",
       "      <td>38.9679</td>\n",
       "      <td>-76.8450</td>\n",
       "      <td></td>\n",
       "    </tr>\n",
       "    <tr>\n",
       "      <th>18</th>\n",
       "      <td>Mubi</td>\n",
       "      <td>NG</td>\n",
       "      <td>77.68</td>\n",
       "      <td>10.2676</td>\n",
       "      <td>13.2644</td>\n",
       "      <td></td>\n",
       "    </tr>\n",
       "    <tr>\n",
       "      <th>21</th>\n",
       "      <td>Vaini</td>\n",
       "      <td>TO</td>\n",
       "      <td>78.96</td>\n",
       "      <td>-21.2000</td>\n",
       "      <td>-175.2000</td>\n",
       "      <td></td>\n",
       "    </tr>\n",
       "  </tbody>\n",
       "</table>\n",
       "</div>"
      ],
      "text/plain": [
       "          City Country  Max Temp      Lat       Lng Hotel Name\n",
       "0     Skopelos      GR     81.21  39.1247   23.7247           \n",
       "5        Kapaa      US     79.48  22.0752 -159.3190           \n",
       "6      Itarema      BR     77.16  -2.9248  -39.9167           \n",
       "10      Lompoc      US     88.57  34.6391 -120.4579           \n",
       "11      Bethel      US     77.18  41.3712  -73.4140           \n",
       "12  Butaritari      KI     81.68   3.0707  172.7902           \n",
       "15       Kunya      NG     78.96  12.2233    8.5325           \n",
       "16    Seabrook      US     81.05  38.9679  -76.8450           \n",
       "18        Mubi      NG     77.68  10.2676   13.2644           \n",
       "21       Vaini      TO     78.96 -21.2000 -175.2000           "
      ]
     },
     "execution_count": 21,
     "metadata": {},
     "output_type": "execute_result"
    }
   ],
   "source": [
    "hotel_df.head(10)"
   ]
  },
  {
   "cell_type": "code",
   "execution_count": 22,
   "id": "3a071316",
   "metadata": {},
   "outputs": [
    {
     "data": {
      "application/vnd.jupyter.widget-view+json": {
       "model_id": "37c368afe8fa497faedcd9b9ef94e099",
       "version_major": 2,
       "version_minor": 0
      },
      "text/plain": [
       "Figure(layout=FigureLayout(height='420px'))"
      ]
     },
     "metadata": {},
     "output_type": "display_data"
    }
   ],
   "source": [
    "# Add a heatmap of temperature for the vacation spots.\n",
    "locations = hotel_df[[\"Lat\", \"Lng\"]]\n",
    "max_temp = hotel_df[\"Max Temp\"]\n",
    "fig = gmaps.figure(center=(30.0, 31.0), zoom_level=1.5)\n",
    "heat_layer = gmaps.heatmap_layer(locations, weights=max_temp, dissipating=False,\n",
    "             max_intensity=300, point_radius=4)\n",
    "\n",
    "fig.add_layer(heat_layer)\n",
    "# Call the figure to plot the data.\n",
    "fig"
   ]
  },
  {
   "cell_type": "code",
   "execution_count": 23,
   "id": "e7eeb2b3",
   "metadata": {},
   "outputs": [
    {
     "data": {
      "application/vnd.jupyter.widget-view+json": {
       "model_id": "c7ab599ea38a483b97d7366ed5709299",
       "version_major": 2,
       "version_minor": 0
      },
      "text/plain": [
       "Figure(layout=FigureLayout(height='420px'))"
      ]
     },
     "metadata": {},
     "output_type": "display_data"
    }
   ],
   "source": [
    "# Add a heatmap of temperature for the vacation spots and marker for each city.\n",
    "locations = hotel_df[[\"Lat\", \"Lng\"]]\n",
    "max_temp = hotel_df[\"Max Temp\"]\n",
    "fig = gmaps.figure(center=(30.0, 31.0), zoom_level=1.5)\n",
    "heat_layer = gmaps.heatmap_layer(locations, weights=max_temp,\n",
    "             dissipating=False, max_intensity=300, point_radius=4)\n",
    "marker_layer = gmaps.marker_layer(locations)\n",
    "fig.add_layer(heat_layer)\n",
    "fig.add_layer(marker_layer)\n",
    "# Call the figure to plot the data.\n",
    "fig"
   ]
  },
  {
   "cell_type": "code",
   "execution_count": 24,
   "id": "9f651ce0",
   "metadata": {},
   "outputs": [],
   "source": [
    "info_box_template = \"\"\"\n",
    "<dl>\n",
    "<dt>Hotel Name</dt><dd>{Hotel Name}</dd>\n",
    "<dt>City</dt><dd>{City}</dd>\n",
    "<dt>Country</dt><dd>{Country}</dd>\n",
    "<dt>Max Temp</dt><dd>{Max Temp} °F</dd>\n",
    "</dl>\n",
    "\"\"\""
   ]
  },
  {
   "cell_type": "code",
   "execution_count": 43,
   "id": "302369a1",
   "metadata": {},
   "outputs": [],
   "source": [
    "# Store the DataFrame Row.\n",
    "hotel_info = [info_box_template.format(**row) for index, row in hotel_df.iterrows()]"
   ]
  },
  {
   "cell_type": "code",
   "execution_count": 44,
   "id": "1981112c",
   "metadata": {},
   "outputs": [
    {
     "data": {
      "application/vnd.jupyter.widget-view+json": {
       "model_id": "3a107202b71543ff971284c02fa969b6",
       "version_major": 2,
       "version_minor": 0
      },
      "text/plain": [
       "Figure(layout=FigureLayout(height='420px'))"
      ]
     },
     "metadata": {},
     "output_type": "display_data"
    }
   ],
   "source": [
    "# Add a heatmap of temperature for the vacation spots and a pop-up marker for each city.\n",
    "locations = hotel_df[[\"Lat\", \"Lng\"]]\n",
    "max_temp = hotel_df[\"Max Temp\"]\n",
    "fig = gmaps.figure(center=(30.0, 31.0), zoom_level=1.5)\n",
    "heat_layer = gmaps.heatmap_layer(locations, weights=max_temp,dissipating=False,\n",
    "             max_intensity=300, point_radius=4)\n",
    "marker_layer = gmaps.marker_layer(locations, info_box_content=hotel_info)\n",
    "fig.add_layer(heat_layer)\n",
    "fig.add_layer(marker_layer)\n",
    "\n",
    "# Call the figure to plot the data.\n",
    "fig"
   ]
  },
  {
   "cell_type": "code",
   "execution_count": null,
   "id": "f98d2e3c",
   "metadata": {},
   "outputs": [],
   "source": []
  }
 ],
 "metadata": {
  "kernelspec": {
   "display_name": "PythonData",
   "language": "python",
   "name": "pythondata"
  },
  "language_info": {
   "codemirror_mode": {
    "name": "ipython",
    "version": 3
   },
   "file_extension": ".py",
   "mimetype": "text/x-python",
   "name": "python",
   "nbconvert_exporter": "python",
   "pygments_lexer": "ipython3",
   "version": "3.9.7"
  }
 },
 "nbformat": 4,
 "nbformat_minor": 5
}
